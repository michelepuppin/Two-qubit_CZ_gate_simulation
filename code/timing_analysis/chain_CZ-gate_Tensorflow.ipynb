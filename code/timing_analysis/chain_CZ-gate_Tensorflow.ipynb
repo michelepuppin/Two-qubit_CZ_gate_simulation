{
 "cells": [
  {
   "cell_type": "markdown",
   "id": "fluid-omega",
   "metadata": {},
   "source": [
    "# Timing analysis of chain CZ gate - Tensorflow implementation"
   ]
  },
  {
   "cell_type": "code",
   "execution_count": null,
   "id": "absent-ebony",
   "metadata": {
    "ExecuteTime": {
     "end_time": "2021-02-20T16:20:50.377223Z",
     "start_time": "2021-02-20T16:20:50.349722Z"
    }
   },
   "outputs": [],
   "source": [
    "# Import packages\n",
    "import numpy as np\n",
    "import time\n",
    "import tensorflow as tf\n",
    "from joblib import Parallel, delayed\n",
    "import csv\n",
    "import os\n",
    "\n",
    "# Set data type\n",
    "data_type = tf.complex64"
   ]
  },
  {
   "cell_type": "markdown",
   "id": "connected-establishment",
   "metadata": {},
   "source": [
    "## Time-dependent Shrödinger equation solvers"
   ]
  },
  {
   "cell_type": "code",
   "execution_count": null,
   "id": "champion-quest",
   "metadata": {},
   "outputs": [],
   "source": [
    "# Spectral method solver\n",
    "def unit_evol(H, psi, tau):\n",
    "\n",
    "    U = tf.linalg.expm(-1j*H*tau)\n",
    "    psi = tf.linalg.matmul(U,psi) \n",
    "    \n",
    "    return psi\n",
    "\n",
    "# Crank-Nicolson solver\n",
    "def crank_nicolson(H, psi, tau, n_iter):\n",
    "    \n",
    "    t = np.linspace(0, tau, n_iter)\n",
    "    dt = t[1] - t[0]\n",
    "    \n",
    "    A = tf.linalg.eye(H.shape[0], dtype=data_type) + 1j * H * dt/2\n",
    "    B = tf.linalg.eye(H.shape[0], dtype=data_type) - 1j * H * dt/2\n",
    "\n",
    "    b = tf.linalg.matmul(B,psi) \n",
    "    \n",
    "    for index, step in enumerate(t):\n",
    "        psi = tf.linalg.solve(A, b)\n",
    "        b = tf.linalg.matmul(B,psi) \n",
    "        \n",
    "    return psi\n",
    "\n",
    "# Crank-Nicolson LU optimized solver\n",
    "def crank_nicolson_LU(H, psi, tau, n_iter):\n",
    "    \n",
    "    t = np.linspace(0, tau, n_iter)\n",
    "    dt = t[1] - t[0]\n",
    "    \n",
    "    A = tf.linalg.eye(H.shape[0], dtype=data_type) + 1j * H * dt/2\n",
    "    B = tf.linalg.eye(H.shape[0], dtype=data_type) - 1j * H * dt/2\n",
    "\n",
    "    # Initial conditions\n",
    "    b = tf.linalg.matmul(B,psi) \n",
    "    \n",
    "    LU, p = tf.linalg.lu(A)\n",
    "    \n",
    "    for index, step in enumerate(t):\n",
    "       \n",
    "        psi = tf.linalg.lu_solve(LU,p,b)\n",
    "        b = tf.linalg.matmul(B,psi) \n",
    "    \n",
    "    return psi  "
   ]
  },
  {
   "cell_type": "markdown",
   "id": "communist-microphone",
   "metadata": {},
   "source": [
    "## Chain CZ-gate implementation"
   ]
  },
  {
   "cell_type": "code",
   "execution_count": null,
   "id": "convenient-meeting",
   "metadata": {},
   "outputs": [],
   "source": [
    "# Tensor operation\n",
    "def tensor(a,b):\n",
    "    \n",
    "    a_shape = [a.shape[0],a.shape[1]]\n",
    "    b_shape = [b.shape[0],b.shape[1]]\n",
    "    \n",
    "    return tf.reshape(tf.reshape(a,[a_shape[0],1,a_shape[1],1])*tf.reshape(b,[1,b_shape[0],1,b_shape[1]]),[a_shape[0]*b_shape[0],a_shape[1]*b_shape[1]])"
   ]
  },
  {
   "cell_type": "code",
   "execution_count": null,
   "id": "apart-correspondence",
   "metadata": {},
   "outputs": [],
   "source": [
    "# Computational base vector initialization\n",
    "def basis(dim, state):\n",
    "    vect = np.zeros((dim,1))\n",
    "    vect[state] = 1\n",
    "    vect = tf.constant(vect, dtype=data_type, shape=(dim,1))\n",
    "    return vect"
   ]
  },
  {
   "cell_type": "code",
   "execution_count": null,
   "id": "patient-cookie",
   "metadata": {},
   "outputs": [],
   "source": [
    "# Optimal phase between two pulses\n",
    "def exp_xi(Delta,Omega,tau):\n",
    "    \n",
    "    y = Delta/Omega\n",
    "    s = Omega * tau\n",
    "    \n",
    "    a = np.sqrt(y**2+1)\n",
    "    b = s*a/2\n",
    "\n",
    "    return (a*np.cos(b) + 1j*y*np.sin(b)) / (-a*np.cos(b) + 1j*y*np.sin(b))"
   ]
  },
  {
   "cell_type": "code",
   "execution_count": null,
   "id": "compressed-summer",
   "metadata": {
    "ExecuteTime": {
     "end_time": "2021-02-20T16:29:01.508632Z",
     "start_time": "2021-02-20T16:29:01.477937Z"
    }
   },
   "outputs": [],
   "source": [
    "# Definition of the Hamiltonian for a two-qubit CZ gate\n",
    "def hamiltonian(Omega,Delta):\n",
    "    \n",
    "    psi00 = tensor(basis(3,0),basis(3,0))\n",
    "    psi01 = tensor(basis(3,0),basis(3,1)) \n",
    "    psi0r = tensor(basis(3,0),basis(3,2))\n",
    "    psi10 = tensor(basis(3,1),basis(3,0))\n",
    "    psi11 = tensor(basis(3,1),basis(3,1)) \n",
    "    psi1r = tensor(basis(3,1),basis(3,2))\n",
    "    psir0 = tensor(basis(3,2),basis(3,0))\n",
    "    psir1 = tensor(basis(3,2),basis(3,1))\n",
    "    psirr = tensor(basis(3,2),basis(3,2))    \n",
    "\n",
    "    H0  = 0 * tensor( tf.linalg.adjoint(psi00),psi00)\n",
    "    \n",
    "    H01 = 1/2 * ( Omega * tensor( tf.linalg.adjoint(psi01),psi0r) + \n",
    "             np.conj(Omega) * tensor( tf.linalg.adjoint(psi0r),psi01) ) - Delta * tensor( tf.linalg.adjoint(psi0r),psi0r)\n",
    "    \n",
    "    H10 = 1/2 * ( Omega * tensor( tf.linalg.adjoint(psi10),psir0) + \n",
    "             np.conj(Omega) * tensor( tf.linalg.adjoint(psir0),psi10) ) - Delta * tensor( tf.linalg.adjoint(psir0),psir0)\n",
    "\n",
    "    H2  = 1/2 * ( Omega * ( tensor( tf.linalg.adjoint(psi11),psir1) + tensor( tf.linalg.adjoint(psi11),psi1r) ) \n",
    "            + np.conj(Omega) * ( tensor( tf.linalg.adjoint(psir1),psi11) + tensor( tf.linalg.adjoint(psi1r),psi11) ) \n",
    "            ) - Delta/2 * ( tensor( tf.linalg.adjoint(psir1),psir1) + tensor( tf.linalg.adjoint(psir1),psi1r) \n",
    "                          + tensor( tf.linalg.adjoint(psi1r),psir1) + tensor( tf.linalg.adjoint(psi1r),psi1r))\n",
    "\n",
    "    H = H0 + H01 + H10 + H2\n",
    "    \n",
    "    return H"
   ]
  },
  {
   "cell_type": "code",
   "execution_count": null,
   "id": "portable-chancellor",
   "metadata": {
    "ExecuteTime": {
     "end_time": "2021-02-20T16:30:33.913670Z",
     "start_time": "2021-02-20T16:30:33.881301Z"
    }
   },
   "outputs": [],
   "source": [
    "# Chain state initialization\n",
    "def chain_init(N,state_first,state_last):\n",
    "    \n",
    "    psi = basis(3,state_first) \n",
    "    \n",
    "    for i in range(N-2):\n",
    "        psi = tensor(psi,basis(3,0))\n",
    "        \n",
    "    psi = tensor(psi,basis(3,state_last))\n",
    "    \n",
    "    return psi"
   ]
  },
  {
   "cell_type": "code",
   "execution_count": null,
   "id": "narrative-bicycle",
   "metadata": {},
   "outputs": [],
   "source": [
    "# Chain CZ_gate implementation\n",
    "def chain_CZ_gate_time(psi,Omega,Delta,tau,method='spectral_evol',niter=100):\n",
    "    \n",
    "    start = time.time()\n",
    "    \n",
    "    N = int(np.log10(psi.shape[0])/(np.log10(3))) # Number of qubits in the chain\n",
    "    I = tf.linalg.eye(3, dtype=data_type) # Define identity matrix\n",
    "    Hp1 = hamiltonian(Omega,Delta) # First pulse hamiltonian\n",
    "    Hp2 = hamiltonian(Omega * exp_xi(Delta,Omega,tau), Delta) # Second pulse hamiltonian\n",
    "    \n",
    "    for i in range(N-1):\n",
    "        \n",
    "        mat_list1 = [I]*(N-1)\n",
    "        mat_list2 = [I]*(N-1)\n",
    "        mat_list1[i] = Hp1\n",
    "        mat_list2[i] = Hp2\n",
    "        \n",
    "        H1 = mat_list1[0]\n",
    "        H2 = mat_list2[0]\n",
    "        \n",
    "        for j in range(N-2):\n",
    "            H1 = tensor(H1, mat_list1[j+1] )\n",
    "            H2 = tensor(H2, mat_list2[j+1] )\n",
    "        \n",
    "        if method == 'spectral_evol':\n",
    "            psi = unit_evol(H1, psi, tau)   \n",
    "            psi = unit_evol(H2, psi, tau) \n",
    "        \n",
    "        elif method == 'cn':\n",
    "            psi = crank_nicolson(H1, psi, tau, niter)\n",
    "            psi = crank_nicolson(H2, psi, tau, niter)\n",
    "        \n",
    "        elif method == 'cn_LU':\n",
    "            psi = crank_nicolson_LU(H1, psi, tau, niter)\n",
    "            psi = crank_nicolson_LU(H2, psi, tau, niter)\n",
    "            \n",
    "        else: \n",
    "            print(\"ERROR: no valid input method!\")\n",
    "            return None\n",
    "    \n",
    "    end = time.time()\n",
    "        \n",
    "    return end-start"
   ]
  },
  {
   "cell_type": "markdown",
   "id": "frank-marsh",
   "metadata": {},
   "source": [
    "## Timing analysis as a function of the number of qubit N"
   ]
  },
  {
   "cell_type": "markdown",
   "id": "prerequisite-listening",
   "metadata": {},
   "source": [
    "### CPU"
   ]
  },
  {
   "cell_type": "code",
   "execution_count": null,
   "id": "fourth-basin",
   "metadata": {},
   "outputs": [],
   "source": [
    "def chain_CZ_gate_execution_CPU(N, method, niter=100, ntimes=10):\n",
    "\n",
    "    Omega   = 1\n",
    "    frac_DO = 0.377371\n",
    "    prod_Ot = 4.29268\n",
    "    Delta = frac_DO * Omega\n",
    "    tau = prod_Ot / Omega\n",
    "\n",
    "    filename = \"tensorflow_CPU_\"+str(method)+\".txt\"\n",
    "\n",
    "    if os.path.exists(filename): \n",
    "        os.remove(filename)\n",
    "    \n",
    "    print(\"Method: \", method)\n",
    "    for i in range(len(N)):\n",
    "        print(\"N: \", N[i])\n",
    "        \n",
    "        state_first = 1\n",
    "        state_last = 1\n",
    "        psi_init = chain_init(N[i],state_first,state_last)\n",
    "        \n",
    "        res = Parallel(n_jobs=-1, verbose=11)(delayed(chain_CZ_gate_time)(psi_init,Omega,Delta,tau,method,niter) for t in range(ntimes))\n",
    "\n",
    "\n",
    "        with open(filename, \"a\") as f:\n",
    "            writer = csv.writer(f)\n",
    "            writer.writerow((N[i], np.mean(res), np.std(res)/np.sqrt(ntimes)))"
   ]
  },
  {
   "cell_type": "code",
   "execution_count": null,
   "id": "present-globe",
   "metadata": {},
   "outputs": [],
   "source": [
    "# Spectral method\n",
    "N = [2, 3, 4, 5, 6, 7]\n",
    "chain_CZ_gate_execution_CPU(N, 'spectral_evol', ntimes=10)"
   ]
  },
  {
   "cell_type": "code",
   "execution_count": null,
   "id": "interpreted-resource",
   "metadata": {},
   "outputs": [],
   "source": [
    "# Crank-Nicolson method\n",
    "N = [2, 3, 4, 5, 6, 7]\n",
    "chain_CZ_gate_execution_CPU(N, 'cn', 100, ntimes=10)"
   ]
  },
  {
   "cell_type": "code",
   "execution_count": null,
   "id": "refined-conditioning",
   "metadata": {},
   "outputs": [],
   "source": [
    "# Crank-Nicolson method with LU decomposition\n",
    "N = [2, 3, 4, 5, 6, 7]\n",
    "chain_CZ_gate_execution_CPU(N, 'cn_LU', 100, ntimes=10)"
   ]
  },
  {
   "cell_type": "markdown",
   "id": "bridal-answer",
   "metadata": {},
   "source": [
    "### GPU"
   ]
  },
  {
   "cell_type": "code",
   "execution_count": null,
   "id": "retained-radiation",
   "metadata": {},
   "outputs": [],
   "source": [
    "def chain_CZ_gate_execution_GPU(N, method, niter=100, ntimes=10):\n",
    "\n",
    "    Omega   = 1\n",
    "    frac_DO = 0.377371\n",
    "    prod_Ot = 4.29268\n",
    "    Delta = frac_DO * Omega\n",
    "    tau = prod_Ot / Omega\n",
    "\n",
    "    filename = \"tensorflow_GPU_\"+str(method)+\".txt\"\n",
    "\n",
    "    if os.path.exists(filename): \n",
    "        os.remove(filename)\n",
    "    \n",
    "    print(\"Method: \", method)\n",
    "    for i in range(len(N)):\n",
    "        \n",
    "        state_first = 1\n",
    "        state_last = 1\n",
    "        psi_init = chain_init(N[i],state_first,state_last)\n",
    "        \n",
    "        res = []\n",
    "        \n",
    "        for j in range(ntimes):\n",
    "            print(\"N: \", N[i], \"ntimes: \", j)\n",
    "            res.append(chain_CZ_gate_time(psi_init,Omega,Delta,tau,method,niter))\n",
    "\n",
    "\n",
    "        with open(filename, \"a\") as f:\n",
    "            writer = csv.writer(f)\n",
    "            writer.writerow((N[i], np.mean(res), np.std(res)/np.sqrt(ntimes)))"
   ]
  },
  {
   "cell_type": "code",
   "execution_count": null,
   "id": "economic-prayer",
   "metadata": {},
   "outputs": [],
   "source": [
    "# Spectral method\n",
    "N = [2, 3, 4, 5, 6, 7]\n",
    "chain_CZ_gate_execution_GPU(N, 'spectral_evol', ntimes=10)"
   ]
  },
  {
   "cell_type": "code",
   "execution_count": null,
   "id": "lesbian-vaccine",
   "metadata": {},
   "outputs": [],
   "source": [
    "# Crank-Nicolson method\n",
    "N = [2, 3, 4, 5, 6, 7]\n",
    "chain_CZ_gate_execution_GPU(N, 'cn', 100, ntimes=10)"
   ]
  },
  {
   "cell_type": "code",
   "execution_count": null,
   "id": "configured-platinum",
   "metadata": {},
   "outputs": [],
   "source": [
    "# Crank-Nicolson method with LU decomposition\n",
    "N = [2, 3, 4, 5, 6, 7]\n",
    "chain_CZ_gate_execution_GPU(N, 'cn_LU', 100, ntimes=10)"
   ]
  }
 ],
 "metadata": {
  "kernelspec": {
   "display_name": "Python 3",
   "language": "python",
   "name": "python3"
  },
  "language_info": {
   "codemirror_mode": {
    "name": "ipython",
    "version": 3
   },
   "file_extension": ".py",
   "mimetype": "text/x-python",
   "name": "python",
   "nbconvert_exporter": "python",
   "pygments_lexer": "ipython3",
   "version": "3.7.9"
  },
  "varInspector": {
   "cols": {
    "lenName": 16,
    "lenType": 16,
    "lenVar": 40
   },
   "kernels_config": {
    "python": {
     "delete_cmd_postfix": "",
     "delete_cmd_prefix": "del ",
     "library": "var_list.py",
     "varRefreshCmd": "print(var_dic_list())"
    },
    "r": {
     "delete_cmd_postfix": ") ",
     "delete_cmd_prefix": "rm(",
     "library": "var_list.r",
     "varRefreshCmd": "cat(var_dic_list()) "
    }
   },
   "types_to_exclude": [
    "module",
    "function",
    "builtin_function_or_method",
    "instance",
    "_Feature"
   ],
   "window_display": false
  }
 },
 "nbformat": 4,
 "nbformat_minor": 5
}
