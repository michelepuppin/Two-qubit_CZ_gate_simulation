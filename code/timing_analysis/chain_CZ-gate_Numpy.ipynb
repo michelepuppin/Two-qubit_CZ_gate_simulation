{
 "cells": [
  {
   "cell_type": "markdown",
   "id": "ranking-english",
   "metadata": {},
   "source": [
    "# Timing analysis of chain CZ gate - Numpy implementation"
   ]
  },
  {
   "cell_type": "code",
   "execution_count": null,
   "id": "combined-royal",
   "metadata": {
    "ExecuteTime": {
     "end_time": "2021-02-26T08:57:17.049552Z",
     "start_time": "2021-02-26T08:57:17.010439Z"
    }
   },
   "outputs": [],
   "source": [
    "# Import packages\n",
    "import numpy as np\n",
    "import time\n",
    "import scipy.linalg\n",
    "from scipy.sparse import csc_matrix, linalg as sla\n",
    "from joblib import Parallel, delayed\n",
    "import csv\n",
    "import os\n",
    "import pandas as pd\n",
    "\n",
    "# Set data type\n",
    "data_type = np.complex64"
   ]
  },
  {
   "cell_type": "markdown",
   "id": "executed-keyboard",
   "metadata": {},
   "source": [
    "## Time-dependent Shrödinger equation solvers"
   ]
  },
  {
   "cell_type": "code",
   "execution_count": null,
   "id": "handed-suggestion",
   "metadata": {
    "ExecuteTime": {
     "end_time": "2021-02-26T08:57:22.642180Z",
     "start_time": "2021-02-26T08:57:22.582326Z"
    }
   },
   "outputs": [],
   "source": [
    "# Spectral method solver\n",
    "def spectral_evol(H, psi, tau):\n",
    "\n",
    "    def exp_mat(H, tau):\n",
    "\n",
    "        eiglist = np.linalg.eigh(H)\n",
    "        eigenvalues = eiglist[0]\n",
    "        eigenvectors = eiglist[1]\n",
    "        print(eigenvalues)\n",
    "        eigenvectors_inv = np.linalg.inv(eigenvectors)\n",
    "        exp_diag = np.diag(np.exp(-1j*eigenvalues*tau))\n",
    "\n",
    "        return np.dot(eigenvectors,np.dot(exp_diag,eigenvectors_inv))\n",
    "    \n",
    "    exp_H = exp_mat(H, tau)\n",
    "    \n",
    "    return np.dot(exp_H,psi)\n",
    "\n",
    "# Crank-Nicolson solver\n",
    "def crank_nicolson(H, psi, tau, n_iter):\n",
    "    \n",
    "    t = np.linspace(0, tau, n_iter)\n",
    "    dt = t[1] - t[0]\n",
    "    \n",
    "    A = np.eye(H.shape[0], dtype=data_type) + 1j * H * dt/2\n",
    "    B = np.eye(H.shape[0], dtype=data_type) - 1j * H * dt/2\n",
    "\n",
    "    b = np.dot(B,psi) \n",
    "\n",
    "    for index, step in enumerate(t):\n",
    "        \n",
    "        psi = np.linalg.solve(A, b)\n",
    "        b = np.dot(B,psi) \n",
    "        \n",
    "    return psi  \n",
    "\n",
    "# Crank-Nicolson LU optimized solver\n",
    "def crank_nicolson_LU(H, psi, tau, n_iter):\n",
    "    \n",
    "    t = np.linspace(0, tau, n_iter)\n",
    "    dt = t[1] - t[0]\n",
    "    \n",
    "    A = np.eye(H.shape[0], dtype=data_type) + 1j * H * dt/2\n",
    "    B = np.eye(H.shape[0], dtype=data_type) - 1j * H * dt/2\n",
    "\n",
    "    b = np.dot(B,psi) \n",
    "    \n",
    "    L, U = scipy.linalg.lu(A, permute_l = True)\n",
    "\n",
    "    for index, step in enumerate(t):\n",
    "        \n",
    "        y = scipy.linalg.solve_triangular(L,b,lower=True)\n",
    "        psi = scipy.linalg.solve_triangular(U,y,lower=False)        \n",
    "        b = np.dot(B,psi) \n",
    "    \n",
    "    return psi\n",
    "\n",
    "# Crank-Nicolson LU optimized solver for sparse matrix\n",
    "def crank_nicolson_LU_sparse(H, psi, tau, n_iter):\n",
    "    \n",
    "    t = np.linspace(0, tau, n_iter)\n",
    "    dt = t[1] - t[0]\n",
    "    \n",
    "    A = np.eye(H.shape[0], dtype=data_type) + 1j * H * dt/2\n",
    "    B = np.eye(H.shape[0], dtype=data_type) - 1j * H * dt/2\n",
    "\n",
    "    b = np.dot(B,psi) \n",
    "    \n",
    "    A = csc_matrix(A)\n",
    "    lu = sla.splu(A) \n",
    "\n",
    "    for index, step in enumerate(t):\n",
    "        \n",
    "        psi = lu.solve(b)     \n",
    "        b = np.dot(B,psi) \n",
    "    \n",
    "    return psi "
   ]
  },
  {
   "cell_type": "markdown",
   "id": "satisfied-warner",
   "metadata": {},
   "source": [
    "## Chain CZ-gate implementation"
   ]
  },
  {
   "cell_type": "code",
   "execution_count": null,
   "id": "lonely-suspect",
   "metadata": {
    "ExecuteTime": {
     "end_time": "2021-02-26T08:57:23.747987Z",
     "start_time": "2021-02-26T08:57:23.739548Z"
    }
   },
   "outputs": [],
   "source": [
    "# Adjiont operator\n",
    "def adjoint(psi):\n",
    "    return np.conj(np.transpose(psi))\n",
    "\n",
    "# Tensor operator\n",
    "def tensor(a,b):\n",
    "    return np.kron(a,b)"
   ]
  },
  {
   "cell_type": "code",
   "execution_count": null,
   "id": "august-flooring",
   "metadata": {
    "ExecuteTime": {
     "end_time": "2021-02-26T08:57:24.241577Z",
     "start_time": "2021-02-26T08:57:24.229041Z"
    }
   },
   "outputs": [],
   "source": [
    "# Computational base vector initialization\n",
    "def basis(dim, state):\n",
    "    vect = np.zeros((dim,1),dtype=data_type)\n",
    "    vect[state] = 1\n",
    "    return vect"
   ]
  },
  {
   "cell_type": "code",
   "execution_count": null,
   "id": "differential-major",
   "metadata": {
    "ExecuteTime": {
     "end_time": "2021-02-26T08:57:24.762365Z",
     "start_time": "2021-02-26T08:57:24.757737Z"
    }
   },
   "outputs": [],
   "source": [
    "# Optimal phase between two pulses\n",
    "def exp_xi(Delta,Omega,tau):\n",
    "    \n",
    "    y = Delta/Omega\n",
    "    s = Omega * tau\n",
    "    \n",
    "    a = np.sqrt(y**2+1)\n",
    "    b = s*a/2\n",
    "\n",
    "    return (a*np.cos(b) + 1j*y*np.sin(b)) / (-a*np.cos(b) + 1j*y*np.sin(b))"
   ]
  },
  {
   "cell_type": "code",
   "execution_count": null,
   "id": "subject-sweden",
   "metadata": {
    "ExecuteTime": {
     "end_time": "2021-02-26T08:57:25.479642Z",
     "start_time": "2021-02-26T08:57:25.466491Z"
    }
   },
   "outputs": [],
   "source": [
    "# Definition of the Hamiltonian for two-qubit CZ gate\n",
    "def hamiltonian(Omega,Delta):\n",
    "    \n",
    "    psi00 = tensor(basis(3,0),basis(3,0))\n",
    "    psi01 = tensor(basis(3,0),basis(3,1)) \n",
    "    psi0r = tensor(basis(3,0),basis(3,2))\n",
    "    psi10 = tensor(basis(3,1),basis(3,0))\n",
    "    psi11 = tensor(basis(3,1),basis(3,1)) \n",
    "    psi1r = tensor(basis(3,1),basis(3,2))\n",
    "    psir0 = tensor(basis(3,2),basis(3,0))\n",
    "    psir1 = tensor(basis(3,2),basis(3,1))\n",
    "    psirr = tensor(basis(3,2),basis(3,2))    \n",
    "\n",
    "    H0  = 0 * tensor( adjoint(psi00),psi00)\n",
    "    \n",
    "    H01 = 1/2 * ( Omega * tensor( adjoint(psi01),psi0r) + \n",
    "             np.conj(Omega) * tensor( adjoint(psi0r),psi01) ) - Delta * tensor( adjoint(psi0r),psi0r)\n",
    "    \n",
    "    H10 = 1/2 * ( Omega * tensor( adjoint(psi10),psir0) + \n",
    "             np.conj(Omega) * tensor( adjoint(psir0),psi10) ) - Delta * tensor( adjoint(psir0),psir0)\n",
    "\n",
    "    H2  = 1/2 * ( Omega * ( tensor( adjoint(psi11),psir1) + tensor( adjoint(psi11),psi1r) ) \n",
    "            + np.conj(Omega) * ( tensor( adjoint(psir1),psi11) + tensor( adjoint(psi1r),psi11) ) \n",
    "        ) - Delta/2 * ( tensor( adjoint(psir1),psir1) + tensor( adjoint(psir1),psi1r) \n",
    "                          + tensor( adjoint(psi1r),psir1) + tensor( adjoint(psi1r),psi1r))\n",
    "\n",
    "    H = H0 + H01 + H10 + H2\n",
    "    \n",
    "    if not np.allclose(H,adjoint(H)):\n",
    "        print(\"ERROR: Hamiltonian is not hermitian!\")\n",
    "    \n",
    "    return H"
   ]
  },
  {
   "cell_type": "code",
   "execution_count": null,
   "id": "sustainable-whale",
   "metadata": {
    "ExecuteTime": {
     "end_time": "2021-02-26T08:57:26.234836Z",
     "start_time": "2021-02-26T08:57:26.180511Z"
    }
   },
   "outputs": [],
   "source": [
    "# Chain state initialization\n",
    "def chain_init(N,state_first,state_last):\n",
    "    \n",
    "    psi = basis(3,state_first) \n",
    "    \n",
    "    for i in range(N-2):\n",
    "        psi = tensor(psi,basis(3,0))\n",
    "        \n",
    "    psi = tensor(psi,basis(3,state_last))\n",
    "    \n",
    "    return psi"
   ]
  },
  {
   "cell_type": "code",
   "execution_count": null,
   "id": "difficult-registrar",
   "metadata": {
    "ExecuteTime": {
     "end_time": "2021-02-26T08:57:27.570130Z",
     "start_time": "2021-02-26T08:57:27.530256Z"
    }
   },
   "outputs": [],
   "source": [
    "# Chain CZ-gate implementation\n",
    "def chain_CZ_gate_time(psi,Omega,Delta,tau,method='spectral_evol',niter=100):\n",
    "    \n",
    "    start = time.time()\n",
    "        \n",
    "    N = int(np.log10(psi.shape[0])/(np.log10(3)))  # Number of qubits in the chain\n",
    "    I = np.eye(3, dtype=data_type) # Define identity matrix\n",
    "    Hp1 = hamiltonian(Omega,Delta) # First pulse hamiltonian\n",
    "    Hp2 = hamiltonian(Omega * exp_xi(Delta,Omega,tau), Delta) # Second pulse hamiltonian  \n",
    "    \n",
    "    for i in range(N-1):\n",
    "        \n",
    "        mat_list1 = [I]*(N-1)\n",
    "        mat_list2 = [I]*(N-1)\n",
    "        mat_list1[i] = Hp1\n",
    "        mat_list2[i] = Hp2\n",
    "        H1 = mat_list1[0]\n",
    "        H2 = mat_list2[0]\n",
    "        \n",
    "        for j in range(N-2):\n",
    "            H1 = tensor(H1, mat_list1[j+1])\n",
    "            H2 = tensor(H2, mat_list2[j+1])\n",
    "        \n",
    "        if method == 'spectral_evol':\n",
    "            psi = spectral_evol(H1, psi, tau)   \n",
    "            psi = spectral_evol(H2, psi, tau) \n",
    "        \n",
    "        elif method == 'cn':\n",
    "            psi = crank_nicolson(H1, psi, tau, niter)\n",
    "            psi = crank_nicolson(H2, psi, tau, niter)\n",
    "        \n",
    "        elif method == 'cn_LU':\n",
    "            psi = crank_nicolson_LU(H1, psi, tau, niter)\n",
    "            psi = crank_nicolson_LU(H2, psi, tau, niter)\n",
    "            \n",
    "        elif method == 'cn_LU_sp':\n",
    "            psi = crank_nicolson_LU_sparse(H1, psi, tau, niter)\n",
    "            psi = crank_nicolson_LU_sparse(H2, psi, tau, niter)\n",
    "            \n",
    "        else: \n",
    "            print(\"ERROR: no valid input method!\")\n",
    "            return None\n",
    "    \n",
    "    end = time.time()\n",
    "    \n",
    "    return end-start"
   ]
  },
  {
   "cell_type": "markdown",
   "id": "working-deposit",
   "metadata": {},
   "source": [
    "## Timing analysis as a function of the number of qubit N"
   ]
  },
  {
   "cell_type": "code",
   "execution_count": null,
   "id": "rising-crown",
   "metadata": {},
   "outputs": [],
   "source": [
    "# Run in parallel chain CZ gate for different N and iterations\n",
    "def chain_CZ_gate_execution(N, method, niter=100, ntimes=10):\n",
    "\n",
    "    Omega   = 1\n",
    "    frac_DO = 0.377371\n",
    "    prod_Ot = 4.29268\n",
    "    Delta = frac_DO * Omega\n",
    "    tau = prod_Ot / Omega\n",
    "\n",
    "    filename = \"numpy_\"+str(method)+\".txt\"\n",
    "\n",
    "    if os.path.exists(filename): \n",
    "        os.remove(filename)\n",
    "    \n",
    "    print(\"Method: \", method)\n",
    "    for i in range(len(N)):\n",
    "        print(\"N: \", N[i])\n",
    "        \n",
    "        state_first = 1\n",
    "        state_last = 1\n",
    "        psi_init = chain_init(N[i],state_first,state_last)\n",
    "        \n",
    "        res = Parallel(n_jobs=-1, verbose=11)(delayed(chain_CZ_gate_time)(psi_init,Omega,Delta,tau,method,niter) for t in range(ntimes))\n",
    "\n",
    "        with open(filename, \"a\") as f:\n",
    "            writer = csv.writer(f)\n",
    "            writer.writerow((N[i], np.mean(res), np.std(res)/np.sqrt(ntimes)))"
   ]
  },
  {
   "cell_type": "code",
   "execution_count": null,
   "id": "phantom-drove",
   "metadata": {},
   "outputs": [],
   "source": [
    "# Spectral method solver\n",
    "N = [2, 3, 4, 5, 6, 7]\n",
    "chain_CZ_gate_execution(N, 'spectral_evol', ntimes=10)"
   ]
  },
  {
   "cell_type": "code",
   "execution_count": null,
   "id": "diverse-collector",
   "metadata": {},
   "outputs": [],
   "source": [
    "# Crank-Nicolson solver\n",
    "N = [2, 3, 4, 5, 6, 7]\n",
    "chain_CZ_gate_execution(N, 'cn', 100, ntimes=10)"
   ]
  },
  {
   "cell_type": "code",
   "execution_count": null,
   "id": "greatest-committee",
   "metadata": {},
   "outputs": [],
   "source": [
    "# Crank-Nicolson with LU decomposition solver\n",
    "N = [2, 3, 4, 5, 6, 7, 8]\n",
    "chain_CZ_gate_execution(N, 'cn_LU', 100, ntimes=10)"
   ]
  },
  {
   "cell_type": "code",
   "execution_count": null,
   "id": "becoming-justice",
   "metadata": {},
   "outputs": [],
   "source": [
    "# Crank-Nicolson with LU decomposition with sparse matrix solver\n",
    "N = [2, 3, 4, 5, 6, 7, 8]\n",
    "chain_CZ_gate_execution(N, 'cn_LU_sp', 100, ntimes=10)"
   ]
  },
  {
   "cell_type": "markdown",
   "id": "known-arcade",
   "metadata": {},
   "source": [
    "## Fidelity analysis as a function of the number of iterations"
   ]
  },
  {
   "cell_type": "code",
   "execution_count": null,
   "id": "polyphonic-affairs",
   "metadata": {},
   "outputs": [],
   "source": [
    "# Fidelity computation\n",
    "def fidelity(psi1,psi2):\n",
    "    fid = np.abs( np.dot(adjoint(psi1),psi2) )**2\n",
    "    return fid[0][0]\n",
    "\n",
    "# Chain CZ-gate implementation\n",
    "def chain_CZ_gate_fid(psi,Omega,Delta,tau,method='spectral_evol',niter=100):\n",
    "        \n",
    "    psi_ref = psi        \n",
    "    N = int(np.log10(psi.shape[0])/(np.log10(3)))  # Number of qubits in the chain\n",
    "    I = np.eye(3, dtype=data_type) # Define identity matrix\n",
    "    Hp1 = hamiltonian(Omega,Delta) # First pulse hamiltonian\n",
    "    Hp2 = hamiltonian(Omega * exp_xi(Delta,Omega,tau), Delta) # Second pulse hamiltonian  \n",
    "    \n",
    "    for i in range(N-1):\n",
    "        \n",
    "        start = time.time()\n",
    "        mat_list1 = [I]*(N-1)\n",
    "        mat_list2 = [I]*(N-1)\n",
    "        mat_list1[i] = Hp1\n",
    "        mat_list2[i] = Hp2\n",
    "        H1 = mat_list1[0]\n",
    "        H2 = mat_list2[0]\n",
    "        \n",
    "        for j in range(N-2):\n",
    "            H1 = tensor(H1, mat_list1[j+1])\n",
    "            H2 = tensor(H2, mat_list2[j+1])\n",
    "        \n",
    "        if method == 'spectral_evol':\n",
    "            psi = unit_evol(H1, psi, tau)   \n",
    "            psi = unit_evol(H2, psi, tau) \n",
    "        \n",
    "        elif method == 'cn':\n",
    "            psi = crank_nicolson(H1, psi, tau, niter)\n",
    "            psi = crank_nicolson(H2, psi, tau, niter)\n",
    "        \n",
    "        elif method == 'cn_LU':\n",
    "            psi = crank_nicolson_LU(H1, psi, tau, niter)\n",
    "            psi = crank_nicolson_LU(H2, psi, tau, niter)\n",
    "            \n",
    "        elif method == 'cn_LU_sp':\n",
    "            psi = crank_nicolson_LU_sparse(H1, psi, tau, niter)\n",
    "            psi = crank_nicolson_LU_sparse(H2, psi, tau, niter)\n",
    "            \n",
    "        else: \n",
    "            print(\"ERROR: no valid input method!\")\n",
    "            return None\n",
    "        \n",
    "    return fidelity(psi_ref,psi)"
   ]
  },
  {
   "cell_type": "code",
   "execution_count": null,
   "id": "private-settle",
   "metadata": {},
   "outputs": [],
   "source": [
    "def chain_CZ_gate_execution_fid(N, method, niter_list, ntimes=10):\n",
    "\n",
    "    Omega   = 1\n",
    "    frac_DO = 0.377371\n",
    "    prod_Ot = 4.29268\n",
    "    Delta = frac_DO * Omega\n",
    "    tau = prod_Ot / Omega\n",
    "\n",
    "    filename = \"fid_\"+str(method)+\"_\"+str(N)+\".txt\"\n",
    "\n",
    "    if os.path.exists(filename): \n",
    "        os.remove(filename)\n",
    "    \n",
    "    print(\"Method: \", method)\n",
    "    for i in range(len(niter_list)):\n",
    "        print(\"N: \", niter_list[i])\n",
    "        \n",
    "        state_first = 1\n",
    "        state_last = 1\n",
    "        psi_init = chain_init(N,state_first,state_last)\n",
    "        \n",
    "        fid = chain_CZ_gate_fid(psi_init,Omega,Delta,tau,method,niter_list[i]) \n",
    "    \n",
    "\n",
    "        with open(filename, \"a\") as f:\n",
    "            writer = csv.writer(f)\n",
    "            writer.writerow((niter_list[i], fid))"
   ]
  },
  {
   "cell_type": "code",
   "execution_count": null,
   "id": "passive-grass",
   "metadata": {},
   "outputs": [],
   "source": [
    "niter_list = np.logspace(np.log10(10),3,20,dtype=int)\n",
    "N = 2\n",
    "\n",
    "chain_CZ_gate_execution_fid(N, 'cn_LU', niter_list, ntimes=10)"
   ]
  },
  {
   "cell_type": "markdown",
   "id": "caroline-horizon",
   "metadata": {},
   "source": [
    "## Phase analysis as a function of the number of iterations"
   ]
  },
  {
   "cell_type": "code",
   "execution_count": null,
   "id": "lesbian-purchase",
   "metadata": {},
   "outputs": [],
   "source": [
    "# Definition of phase function\n",
    "def phase_func(z):\n",
    "    \n",
    "    # a + ib\n",
    "    a = np.real(z)\n",
    "    b = np.imag(z)\n",
    "    \n",
    "    if b==0:\n",
    "        ph = 2*np.pi\n",
    "    if (a>=0 and b>0): # I\n",
    "        ph = np.arctan(b/a) \n",
    "    if (a<0 and b>0): # II\n",
    "        ph = np.arctan(b/a) + np.pi\n",
    "    if (a<0 and b<0): # III\n",
    "        ph = np.arctan(b/a) + np.pi\n",
    "    if (a>0 and b<0): # IV\n",
    "        ph = 2*np.pi + np.arctan(b/a)\n",
    "        \n",
    "    return ph"
   ]
  },
  {
   "cell_type": "code",
   "execution_count": null,
   "id": "growing-above",
   "metadata": {},
   "outputs": [],
   "source": [
    "# Chain CZ-gate implementation\n",
    "def chain_CZ_gate_phase(psi,Omega,Delta,tau,method='spectral_evol',niter=100):\n",
    "    \n",
    "    psi_ref = psi        \n",
    "    N = int(np.log10(psi.shape[0])/(np.log10(3)))  # Number of qubits in the chain\n",
    "    I = np.eye(3, dtype=data_type) # Define identity matrix\n",
    "    Hp1 = hamiltonian(Omega,Delta) # First pulse hamiltonian\n",
    "    Hp2 = hamiltonian(Omega * exp_xi(Delta,Omega,tau), Delta) # Second pulse hamiltonian  \n",
    "    \n",
    "    for i in range(N-1):\n",
    "        \n",
    "        start = time.time()\n",
    "        mat_list1 = [I]*(N-1)\n",
    "        mat_list2 = [I]*(N-1)\n",
    "        mat_list1[i] = Hp1\n",
    "        mat_list2[i] = Hp2\n",
    "        H1 = mat_list1[0]\n",
    "        H2 = mat_list2[0]\n",
    "        \n",
    "        for j in range(N-2):\n",
    "            H1 = tensor(H1, mat_list1[j+1])\n",
    "            H2 = tensor(H2, mat_list2[j+1])\n",
    "        \n",
    "        if method == 'spectral_evol':\n",
    "            psi = unit_evol(H1, psi, tau)   \n",
    "            psi = unit_evol(H2, psi, tau) \n",
    "        \n",
    "        elif method == 'cn':\n",
    "            psi = crank_nicolson(H1, psi, tau, niter)\n",
    "            psi = crank_nicolson(H2, psi, tau, niter)\n",
    "        \n",
    "        elif method == 'cn_LU':\n",
    "            psi = crank_nicolson_LU(H1, psi, tau, niter)\n",
    "            psi = crank_nicolson_LU(H2, psi, tau, niter)\n",
    "            \n",
    "        elif method == 'cn_LU_sp':\n",
    "            psi = crank_nicolson_LU_sparse(H1, psi, tau, niter)\n",
    "            psi = crank_nicolson_LU_sparse(H2, psi, tau, niter)\n",
    "            \n",
    "        else: \n",
    "            print(\"ERROR: no valid input method!\")\n",
    "            return None\n",
    "    \n",
    "    return phase_func(np.conj(psi[4][0]))"
   ]
  },
  {
   "cell_type": "code",
   "execution_count": null,
   "id": "adjusted-platform",
   "metadata": {},
   "outputs": [],
   "source": [
    "def chain_CZ_gate_execution_phase(N, method, niter_list, ntimes=10):\n",
    "\n",
    "    Omega   = 1\n",
    "    frac_DO = 0.377371\n",
    "    prod_Ot = 4.29268\n",
    "    Delta = frac_DO * Omega\n",
    "    tau = prod_Ot / Omega\n",
    "\n",
    "    filename = \"phase_\"+str(method)+\"_\"+str(N)+\".txt\"\n",
    "\n",
    "    if os.path.exists(filename): \n",
    "        os.remove(filename)\n",
    "    \n",
    "    print(\"Method: \", method)\n",
    "    for i in range(len(niter_list)):\n",
    "        print(\"N: \", niter_list[i])\n",
    "        \n",
    "        state_first = 1\n",
    "        state_last = 1\n",
    "        psi_init = chain_init(N,state_first,state_last)\n",
    "        \n",
    "        phase = chain_CZ_gate_phase(psi_init,Omega,Delta,tau,method,niter_list[i])\n",
    "\n",
    "        with open(filename, \"a\") as f:\n",
    "            writer = csv.writer(f)\n",
    "            writer.writerow((niter_list[i],phase))"
   ]
  },
  {
   "cell_type": "code",
   "execution_count": null,
   "id": "spare-monkey",
   "metadata": {},
   "outputs": [],
   "source": [
    "niter_list = np.logspace(np.log10(10),3,20,dtype=int)\n",
    "N = 2\n",
    "\n",
    "chain_CZ_gate_execution_phase(N, 'cn_LU', niter_list, ntimes=10)"
   ]
  }
 ],
 "metadata": {
  "kernelspec": {
   "display_name": "Python 3",
   "language": "python",
   "name": "python3"
  },
  "language_info": {
   "codemirror_mode": {
    "name": "ipython",
    "version": 3
   },
   "file_extension": ".py",
   "mimetype": "text/x-python",
   "name": "python",
   "nbconvert_exporter": "python",
   "pygments_lexer": "ipython3",
   "version": "3.7.9"
  },
  "varInspector": {
   "cols": {
    "lenName": 16,
    "lenType": 16,
    "lenVar": 40
   },
   "kernels_config": {
    "python": {
     "delete_cmd_postfix": "",
     "delete_cmd_prefix": "del ",
     "library": "var_list.py",
     "varRefreshCmd": "print(var_dic_list())"
    },
    "r": {
     "delete_cmd_postfix": ") ",
     "delete_cmd_prefix": "rm(",
     "library": "var_list.r",
     "varRefreshCmd": "cat(var_dic_list()) "
    }
   },
   "types_to_exclude": [
    "module",
    "function",
    "builtin_function_or_method",
    "instance",
    "_Feature"
   ],
   "window_display": false
  }
 },
 "nbformat": 4,
 "nbformat_minor": 5
}
