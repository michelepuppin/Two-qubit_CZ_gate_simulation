{
 "cells": [
  {
   "cell_type": "markdown",
   "id": "reasonable-judge",
   "metadata": {},
   "source": [
    "# Two-qubit CZ gate behavior - Qutip implementation"
   ]
  },
  {
   "cell_type": "code",
   "execution_count": null,
   "id": "radical-cycling",
   "metadata": {
    "ExecuteTime": {
     "end_time": "2021-02-28T16:13:56.321301Z",
     "start_time": "2021-02-28T16:13:56.302949Z"
    }
   },
   "outputs": [],
   "source": [
    "# Load packages\n",
    "import numpy as np\n",
    "import matplotlib.pyplot as plt\n",
    "from qutip import *\n",
    "\n",
    "from basic_units import radians, degrees, cos\n",
    "\n",
    "col = ['C0','C1','C2','C3']\n",
    "\n",
    "plt.rc('text', usetex=True)\n",
    "plt.rc('font', family='serif')\n",
    "plt.rcParams['text.latex.preamble'] = [r'\\boldmath']"
   ]
  },
  {
   "cell_type": "markdown",
   "id": "white-ambassador",
   "metadata": {},
   "source": [
    "## Perfect blockade regime"
   ]
  },
  {
   "cell_type": "markdown",
   "id": "metropolitan-collar",
   "metadata": {},
   "source": [
    "### Functions definition"
   ]
  },
  {
   "cell_type": "code",
   "execution_count": null,
   "id": "under-viewer",
   "metadata": {
    "ExecuteTime": {
     "end_time": "2021-02-28T16:13:57.148484Z",
     "start_time": "2021-02-28T16:13:57.141909Z"
    }
   },
   "outputs": [],
   "source": [
    "# Function for phase computation\n",
    "def phase_func(z):\n",
    "    # a + ib\n",
    "    a = np.real(z)\n",
    "    b = np.imag(z)\n",
    "    \n",
    "    if b==0:\n",
    "        ph = 2*np.pi\n",
    "    if (a>=0 and b>0): # I\n",
    "        ph = np.arctan(b/a) \n",
    "    if (a<0 and b>0): # II\n",
    "        ph = np.arctan(b/a) + np.pi\n",
    "    if (a<0 and b<0): # III\n",
    "        ph = np.arctan(b/a) + np.pi\n",
    "    if (a>0 and b<0): # IV\n",
    "        ph = 2*np.pi + np.arctan(b/a)\n",
    "        \n",
    "    return ph"
   ]
  },
  {
   "cell_type": "code",
   "execution_count": null,
   "id": "increased-theory",
   "metadata": {
    "ExecuteTime": {
     "end_time": "2021-02-28T18:03:32.561373Z",
     "start_time": "2021-02-28T18:03:32.545014Z"
    }
   },
   "outputs": [],
   "source": [
    "# Definition of the Hamiltonian for a two-qubit CZ gate\n",
    "def hamiltonian(Omega,Delta):\n",
    "    \n",
    "    psi00 = tensor(basis(3,0),basis(3,0))\n",
    "    psi01 = tensor(basis(3,1),basis(3,0)) \n",
    "    psi0r = tensor(basis(3,2),basis(3,0))\n",
    "    psi10 = tensor(basis(3,0),basis(3,1))\n",
    "    psi11 = tensor(basis(3,1),basis(3,1)) \n",
    "    psi1r = tensor(basis(3,2),basis(3,1))\n",
    "    psir0 = tensor(basis(3,0),basis(3,2))\n",
    "    psir1 = tensor(basis(3,1),basis(3,2))\n",
    "    psirr = tensor(basis(3,2),basis(3,2))\n",
    "\n",
    "    H0  = 0 * tensor(psi00.dag(),psi00)\n",
    "    \n",
    "    H01 = 1/2 * ( Omega * tensor(psi01.dag(),psi0r) + \n",
    "             np.conj(Omega) * tensor(psi0r.dag(),psi01) ) - Delta * tensor(psi0r.dag(),psi0r)\n",
    "    \n",
    "    H10 = 1/2 * ( Omega * tensor(psi10.dag(),psir0) + \n",
    "             np.conj(Omega) * tensor(psir0.dag(),psi10) ) - Delta * tensor(psir0.dag(),psir0)\n",
    "\n",
    "    H2  = 1/2 * ( Omega * ( tensor(psi11.dag(),psir1) + tensor(psi11.dag(),psi1r) ) \n",
    "            + np.conj(Omega) * ( tensor(psir1.dag(),psi11) + tensor(psi1r.dag(),psi11) ) \n",
    "            ) - Delta/2 * ( tensor(psir1.dag(),psir1) + tensor(psir1.dag(),psi1r) \n",
    "                           + tensor(psi1r.dag(),psir1) + tensor(psi1r.dag(),psi1r))\n",
    "\n",
    "    H = H0 + H01 + H10 + H2\n",
    "    \n",
    "    return H\n",
    "\n",
    "# Optimal phase between two pulse\n",
    "def exp_xi(Delta,Omega,tau):\n",
    "    \n",
    "    y = Delta/Omega\n",
    "    s = Omega * tau\n",
    "    \n",
    "    a = np.sqrt(y**2+1)\n",
    "    b = s*a/2\n",
    "    \n",
    "    return (a*np.cos(b) + 1j*y*np.sin(b)) / (-a*np.cos(b) + 1j*y*np.sin(b))\n",
    "\n",
    "print('Theoretical xi:', phase_func(np.exp(-1j*3.90242)) )\n",
    "print('xi calculated with the function:', phase_func(exp_xi(0.377371,1,4.29268))) "
   ]
  },
  {
   "cell_type": "code",
   "execution_count": null,
   "id": "earlier-museum",
   "metadata": {
    "ExecuteTime": {
     "end_time": "2021-02-28T16:13:58.082701Z",
     "start_time": "2021-02-28T16:13:57.583909Z"
    }
   },
   "outputs": [],
   "source": [
    "H = Qobj( hamiltonian(1,0.377371),dims= [[3, 3, 3], [3, 3, 3]] )\n",
    "fig, ax = matrix_histogram(H,limits=[-0.6,0.6])\n",
    "ax.view_init(azim=-55, elev=10)\n",
    "plt.show()"
   ]
  },
  {
   "cell_type": "code",
   "execution_count": null,
   "id": "controversial-poker",
   "metadata": {
    "ExecuteTime": {
     "end_time": "2021-02-28T18:00:29.349346Z",
     "start_time": "2021-02-28T18:00:29.342233Z"
    }
   },
   "outputs": [],
   "source": [
    "# Implementation of two-qubit CZ gate\n",
    "def CZ_gate(psi,Omega,Delta,tau):\n",
    "        \n",
    "    # Times discretization\n",
    "    times = np.linspace(0.0, tau, 200)\n",
    "    \n",
    "    # Apply first pulse\n",
    "    H = hamiltonian(Omega,Delta)\n",
    "    result = mesolve(H, psi, times,[], [])\n",
    "    psi = result.states[-1]\n",
    "    \n",
    "    # Apply second pulse rotated by Omega -> Omega exp(i xi)\n",
    "    H = hamiltonian(Omega * exp_xi(Delta,Omega,tau), Delta)\n",
    "    result = mesolve(H, psi, times,[], [])\n",
    "    psi = result.states[-1] \n",
    "        \n",
    "    return psi\n",
    "\n",
    "# Evolution of the system after the first pulse\n",
    "def evol_CZ_gate(psi,Omega,Delta,tau,rho_ref):\n",
    "        \n",
    "    # Times discretization\n",
    "    times = np.linspace(0.0, 3*tau, 200)\n",
    "    \n",
    "    # Apply first pulse\n",
    "    H = hamiltonian(Omega,Delta)\n",
    "    result = mesolve(H, psi, times,[], [rho_ref])\n",
    "        \n",
    "    return result\n",
    "\n",
    "# Chain state initialization\n",
    "def CZ_init(state_first,state_last):\n",
    "    \n",
    "    psi = basis(3,state_first) \n",
    "    psi = tensor(psi,basis(3,state_last))\n",
    "    \n",
    "    return psi"
   ]
  },
  {
   "cell_type": "markdown",
   "id": "civil-salmon",
   "metadata": {
    "ExecuteTime": {
     "end_time": "2021-02-24T09:27:51.153057Z",
     "start_time": "2021-02-24T09:27:51.149621Z"
    }
   },
   "source": [
    "### Population inversion for system initally in $|11>$: the evolution hamiltonian is $H_2$"
   ]
  },
  {
   "cell_type": "code",
   "execution_count": null,
   "id": "governing-belle",
   "metadata": {
    "ExecuteTime": {
     "end_time": "2021-02-28T16:14:01.896850Z",
     "start_time": "2021-02-28T16:13:59.466733Z"
    },
    "scrolled": false
   },
   "outputs": [],
   "source": [
    "# Fix parameters\n",
    "Omega   = 1\n",
    "frac_DO = 0.377371\n",
    "prod_Ot = 4.29268\n",
    "Delta = frac_DO * Omega \n",
    "tau = prod_Ot / Omega\n",
    "\n",
    "# Initialize state\n",
    "state_first = 1\n",
    "state_last = 1\n",
    "psi_init = CZ_init(state_first,state_last) \n",
    "\n",
    "Delta_list = [0,frac_DO,4*frac_DO]\n",
    "pop_b2_list = []\n",
    "pop_a2_list = []\n",
    "pop_b2_a2_list = []\n",
    "\n",
    "for dd in Delta_list:\n",
    "    \n",
    "    rho_ref_b2 = ket2dm( np.sqrt(2)/2 * ( CZ_init(2,1) + CZ_init(1,2) ) )\n",
    "    pop_b2 = evol_CZ_gate(psi_init,Omega,dd,tau,rho_ref_b2)   \n",
    "    pop_b2_list.append(pop_b2)\n",
    "    \n",
    "    rho_ref_a2 = ket2dm( CZ_init(1,1) )\n",
    "    pop_a2 = evol_CZ_gate(psi_init,Omega,dd,tau,rho_ref_a2)   \n",
    "    pop_a2_list.append(pop_a2)    \n",
    "\n",
    "    rho_ref_b2_a2 = rho_ref_b2 - rho_ref_a2\n",
    "    pop_b2_a2 = evol_CZ_gate(psi_init,Omega,dd,tau,rho_ref_b2_a2 ) \n",
    "    pop_b2_a2_list.append(pop_b2_a2)\n",
    "    \n",
    "    \n",
    "fig, ax = plt.subplots(3,1, figsize=(8,6))\n",
    "\n",
    "ax[0].plot(pop_b2_list[0].times, pop_b2_list[0].expect[0], color=col[0], ls='-', label=r'$\\Delta/\\Omega$=0')\n",
    "ax[0].plot(pop_b2_list[1].times, pop_b2_list[1].expect[0], color=col[1], ls='--',label=r'$\\Delta/\\Omega$=0.377')\n",
    "ax[0].plot(pop_b2_list[2].times, pop_b2_list[2].expect[0], color=col[2], ls='-.', label=r'$\\Delta/\\Omega$=$4\\times$0.377')\n",
    "ax[0].set_ylabel(r'$\\bf{P_{b_2}}$', fontsize=16)\n",
    "ax[0].grid(color='0.9')\n",
    "ax[0].set_ylim(-0.1,1.1)\n",
    "\n",
    "ax[1].plot(pop_a2_list[0].times, pop_a2_list[0].expect[0], color=col[0], ls='-',  label=r'$\\Delta/\\Omega$=0')\n",
    "ax[1].plot(pop_a2_list[1].times, pop_a2_list[1].expect[0], color=col[1], ls='--', label=r'$\\Delta/\\Omega$=0.377')\n",
    "ax[1].plot(pop_a2_list[2].times, pop_a2_list[2].expect[0], color=col[2], ls='-.', label=r'$\\Delta/\\Omega$=$4\\times$0.377')\n",
    "ax[1].set_ylabel(r'$\\bf{P_{a_2}}$', fontsize=16)\n",
    "ax[1].grid(color='0.9')\n",
    "ax[1].set_ylim(-0.1,1.1)\n",
    "\n",
    "ax[2].plot(pop_b2_a2_list[0].times, pop_b2_a2_list[0].expect[0], color=col[0], ls='-',  label=r'$\\Delta/\\Omega$=0')\n",
    "ax[2].plot(pop_b2_a2_list[1].times, pop_b2_a2_list[1].expect[0], color=col[1], ls='--', label=r'$\\Delta/\\Omega$=0.377')\n",
    "ax[2].plot(pop_b2_a2_list[2].times, pop_b2_a2_list[2].expect[0], color=col[2], ls='-.', label=r'$\\Delta/\\Omega$=$4\\times$0.377')\n",
    "ax[2].set_ylabel(r'$\\bf{P_{b_2}-P_{a_2}}$', fontsize=16)\n",
    "ax[2].grid(color='0.9')\n",
    "ax[2].set_xlabel(r'\\bf{Time} $[\\Omega^{-1}]$', fontsize=16);\n",
    "ax[2].set_ylim(-1.1,1.1)\n",
    "\n",
    "#ax[3].plot(pop_b2_a2_list[0].times, pop_b2_list[0].expect[0]-pop_a2_list[0].expect[0], label=r'$\\Delta/\\Omega$=0')\n",
    "#ax[3].plot(pop_b2_a2_list[1].times, pop_b2_list[1].expect[0]-pop_a2_list[1].expect[0], label=r'$\\Delta/\\Omega$=0.377')\n",
    "#ax[3].plot(pop_b2_a2_list[2].times, pop_b2_list[2].expect[0]-pop_a2_list[2].expect[0], label=r'$\\Delta/\\Omega$=$2\\times$0.377')\n",
    "#ax[3].grid(color='0.9')\n",
    "#ax[3].set_ylim(-1.1,1.1)\n",
    "\n",
    "# Put a legend above current axis\n",
    "plt.legend(loc='upper center', bbox_to_anchor=(0.5, 3.85),fancybox=True, shadow=True, ncol=3)\n",
    "plt.savefig(\"plots/pop_H2.pdf\", bbox_inches='tight')\n",
    "plt.show()"
   ]
  },
  {
   "cell_type": "markdown",
   "id": "outstanding-despite",
   "metadata": {
    "heading_collapsed": true
   },
   "source": [
    "### Population inversion for system initally in $|01>$: the evolution hamiltonian is $H_1$"
   ]
  },
  {
   "cell_type": "code",
   "execution_count": null,
   "id": "funded-buddy",
   "metadata": {
    "ExecuteTime": {
     "end_time": "2021-02-28T16:14:03.883070Z",
     "start_time": "2021-02-28T16:14:02.800915Z"
    },
    "hidden": true
   },
   "outputs": [],
   "source": [
    "# Parameters\n",
    "Omega   = 1\n",
    "frac_DO = 0.377371\n",
    "prod_Ot = 4.29268\n",
    "Delta = frac_DO * Omega \n",
    "tau = prod_Ot / Omega\n",
    "\n",
    "state_first = 0\n",
    "state_last = 1\n",
    "psi_init = CZ_init(state_first,state_last) \n",
    "\n",
    "Delta_list = [0,frac_DO,4*frac_DO]\n",
    "pop_b2_list = []\n",
    "pop_a2_list = []\n",
    "pop_b2_a2_list = []\n",
    "\n",
    "for dd in Delta_list:\n",
    "    \n",
    "    rho_ref_b2 = ket2dm( CZ_init(0,2) )\n",
    "    pop_b2 = evol_CZ_gate(psi_init,Omega,dd,tau,rho_ref_b2)   \n",
    "    pop_b2_list.append(pop_b2)\n",
    "    \n",
    "    rho_ref_a2 = ket2dm( CZ_init(0,1) )\n",
    "    pop_a2 = evol_CZ_gate(psi_init,Omega,dd,tau,rho_ref_a2)   \n",
    "    pop_a2_list.append(pop_a2)    \n",
    "\n",
    "    rho_ref_b2_a2 = rho_ref_b2 - rho_ref_a2\n",
    "    pop_b2_a2 = evol_CZ_gate(psi_init,Omega,dd,tau,rho_ref_b2_a2 ) \n",
    "    pop_b2_a2_list.append(pop_b2_a2)\n",
    "    \n",
    "    \n",
    "fig, ax = plt.subplots(3,1, figsize=(8,6))\n",
    "\n",
    "ax[0].plot(pop_b2_list[0].times, pop_b2_list[0].expect[0], color=col[0], ls='-', label=r'$\\Delta/\\Omega$=0')\n",
    "ax[0].plot(pop_b2_list[1].times, pop_b2_list[1].expect[0], color=col[1], ls='--',label=r'$\\Delta/\\Omega$=0.377')\n",
    "ax[0].plot(pop_b2_list[2].times, pop_b2_list[2].expect[0], color=col[2], ls='-.', label=r'$\\Delta/\\Omega$=$4\\times$0.377')\n",
    "ax[0].set_ylabel(r'$\\bf{P_{b_1}}$', fontsize=16)\n",
    "ax[0].grid(color='0.9')\n",
    "ax[0].set_ylim(-0.1,1.1)\n",
    "\n",
    "ax[1].plot(pop_a2_list[0].times, pop_a2_list[0].expect[0], color=col[0], ls='-',  label=r'$\\Delta/\\Omega$=0')\n",
    "ax[1].plot(pop_a2_list[1].times, pop_a2_list[1].expect[0], color=col[1], ls='--', label=r'$\\Delta/\\Omega$=0.377')\n",
    "ax[1].plot(pop_a2_list[2].times, pop_a2_list[2].expect[0], color=col[2], ls='-.', label=r'$\\Delta/\\Omega$=$4\\times$0.377')\n",
    "ax[1].set_ylabel(r'$\\bf{P_{a_1}}$', fontsize=16)\n",
    "ax[1].grid(color='0.9')\n",
    "ax[1].set_ylim(-0.1,1.1)\n",
    "\n",
    "ax[2].plot(pop_b2_a2_list[0].times, pop_b2_a2_list[0].expect[0], color=col[0], ls='-',  label=r'$\\Delta/\\Omega$=0')\n",
    "ax[2].plot(pop_b2_a2_list[1].times, pop_b2_a2_list[1].expect[0], color=col[1], ls='--', label=r'$\\Delta/\\Omega$=0.377')\n",
    "ax[2].plot(pop_b2_a2_list[2].times, pop_b2_a2_list[2].expect[0], color=col[2], ls='-.', label=r'$\\Delta/\\Omega$=$4\\times$0.377')\n",
    "ax[2].set_ylabel(r'$\\bf{P_{b_1}-P_{a_1}}$', fontsize=16)\n",
    "ax[2].grid(color='0.9')\n",
    "ax[2].set_xlabel(r'\\bf{Time} $[\\Omega^{-1}]$', fontsize=16);\n",
    "ax[2].set_ylim(-1.1,1.1)\n",
    "\n",
    "# Put a legend above current axis\n",
    "plt.legend(loc='upper center', bbox_to_anchor=(0.5, 3.85),fancybox=True, shadow=True, ncol=3)\n",
    "plt.savefig(\"plots/pop_H1.pdf\", bbox_inches='tight')\n",
    "plt.show()"
   ]
  },
  {
   "cell_type": "markdown",
   "id": "median-craft",
   "metadata": {
    "heading_collapsed": true
   },
   "source": [
    "### Phase plot as a function of $\\Delta/\\Omega$"
   ]
  },
  {
   "cell_type": "code",
   "execution_count": null,
   "id": "interesting-curtis",
   "metadata": {
    "ExecuteTime": {
     "end_time": "2021-03-02T16:34:31.721428Z",
     "start_time": "2021-03-02T16:34:24.044966Z"
    },
    "hidden": true
   },
   "outputs": [],
   "source": [
    "# Parameters\n",
    "frac_DO_list = np.linspace(0,1.7,50)\n",
    "Omega   = 1\n",
    "prod_Ot = 4.29268\n",
    "tau = prod_Ot / Omega\n",
    "\n",
    "# State |01>\n",
    "\n",
    "state_first = 0\n",
    "state_last = 1\n",
    "psi_init = CZ_init(state_first,state_last) \n",
    "\n",
    "phase_01_list = []\n",
    "phase_diff_list = []\n",
    "\n",
    "for ff in frac_DO_list:\n",
    "    \n",
    "    Delta = ff * Omega\n",
    "    psi_fin = CZ_gate(psi_init,Omega,Delta,tau) \n",
    "    number = np.conj(psi_fin[1][0][0])\n",
    "    phase_01_list.append( phase_func( number ) )\n",
    "    phase_diff_list.append( 2*phase_func( number )-np.pi)\n",
    "\n",
    "phase_01_in_radians = [val*radians for val in phase_01_list] \n",
    "phase_diff_in_radians = [val*radians for val in phase_diff_list]     \n",
    "\n",
    "# State |11>\n",
    "\n",
    "state_first = 1\n",
    "state_last = 1\n",
    "psi_init = CZ_init(state_first,state_last) \n",
    "\n",
    "phase_11_list = []\n",
    "\n",
    "phi_2_list = []\n",
    "\n",
    "for ff in frac_DO_list:\n",
    "    \n",
    "    Delta = ff * Omega \n",
    "    psi_fin = CZ_gate(psi_init,Omega,Delta,tau) \n",
    "    number = np.conj(psi_fin[4][0][0])\n",
    "    phase_11_list.append( phase_func( number ) )\n",
    "    phi_2_list.append( -2*np.pi * Delta / np.sqrt(Delta**2+2*Omega**2)+ 2*np.pi)\n",
    "\n",
    "phi_2_in_radians = [val*radians for val in phi_2_list]\n",
    "phase_11_in_radians = [val*radians for val in phase_11_list]"
   ]
  },
  {
   "cell_type": "code",
   "execution_count": null,
   "id": "accepted-distinction",
   "metadata": {
    "ExecuteTime": {
     "end_time": "2021-03-02T16:34:33.680361Z",
     "start_time": "2021-03-02T16:34:31.822731Z"
    },
    "hidden": true
   },
   "outputs": [],
   "source": [
    "# Plot\n",
    "\n",
    "fig, ax = plt.subplots(1,1, figsize=(8,6))\n",
    "\n",
    "ax.plot(frac_DO_list, phase_01_in_radians, color=col[0], ls='-', lw='2', yunits=radians, label=r'$\\phi_{01}$' )  \n",
    "\n",
    "ax.set_xlabel(r'$\\Delta/\\Omega$', fontsize=16);\n",
    "ax.set_ylabel(r'\\bf{Phase [rad]}', fontsize=16)\n",
    "ax.grid(color='0.9')\n",
    "ax.set_xlim(0,1.7)\n",
    "ax.set_ylim(-0.1,3*np.pi+0.5)\n",
    "plt.legend(fontsize=16)\n",
    "plt.savefig(\"plots/phase_01_CZ.pdf\", bbox_inches='tight')\n",
    "plt.show()"
   ]
  },
  {
   "cell_type": "code",
   "execution_count": null,
   "id": "random-seeker",
   "metadata": {
    "ExecuteTime": {
     "end_time": "2021-03-02T16:34:34.214299Z",
     "start_time": "2021-03-02T16:34:33.758092Z"
    },
    "hidden": true
   },
   "outputs": [],
   "source": [
    "# Plot\n",
    "\n",
    "fig, ax = plt.subplots(1,1, figsize=(8,6))\n",
    "\n",
    "ax.plot(frac_DO_list, phase_11_in_radians, color=col[3], ls='-', lw='2', yunits=radians, label=r'$\\phi_{11}$' ) \n",
    "ax.plot(frac_DO_list, phase_diff_in_radians, color=col[0], ls='--', lw='2', yunits=radians, label=r'$2\\phi_{01}-\\pi$') \n",
    "ax.plot(0.37,3*np.pi/2,'.', marker=\".\", markersize=20, color=col[1])\n",
    "plt.text(0.42,3*np.pi/2,r'\\bf{CZ}',fontsize=16,color=col[1])\n",
    "#ax.plot(frac_DO_list, phi_2_in_radians, color=col[2], ls='-', lw='2', yunits=radians, label=r'$\\phi_2$' ) \n",
    "\n",
    "ax.set_xlabel(r'$\\Delta/\\Omega$', fontsize=16);\n",
    "ax.set_ylabel(r'\\bf{Phase [rad]}', fontsize=16)\n",
    "ax.grid(color='0.9')\n",
    "ax.set_xlim(0,1.7)\n",
    "ax.set_ylim(-0.1,3*np.pi+0.5)\n",
    "plt.legend(fontsize=16)\n",
    "plt.savefig(\"plots/phase_11_CZ.pdf\", bbox_inches='tight')\n",
    "plt.show()"
   ]
  },
  {
   "cell_type": "markdown",
   "id": "protective-lloyd",
   "metadata": {},
   "source": [
    "## Imperfect blockade regime"
   ]
  },
  {
   "cell_type": "markdown",
   "id": "cathedral-anatomy",
   "metadata": {
    "heading_collapsed": true
   },
   "source": [
    "### Functions definition"
   ]
  },
  {
   "cell_type": "code",
   "execution_count": null,
   "id": "temporal-impression",
   "metadata": {
    "ExecuteTime": {
     "end_time": "2021-02-28T16:14:07.271164Z",
     "start_time": "2021-02-28T16:14:07.259665Z"
    },
    "hidden": true
   },
   "outputs": [],
   "source": [
    "# Hamiltonian definition for imperfect blockade regime\n",
    "def hamiltonian_imperfect(Omega,Delta,V):\n",
    "    \n",
    "    psi00 = basis(9,0)\n",
    "    psi01 = basis(9,1) \n",
    "    psi0r = basis(9,2)\n",
    "    psi10 = basis(9,3)\n",
    "    psi11 = basis(9,4) \n",
    "    psi1r = basis(9,5)\n",
    "    psir0 = basis(9,6)\n",
    "    psir1 = basis(9,7)\n",
    "    psirr = basis(9,8)\n",
    "\n",
    "    H0  = 0 * tensor(psi00.dag(),psi00)\n",
    "    \n",
    "    H01 = 1/2 * ( Omega * tensor(psi01.dag(),psi0r) + \n",
    "             np.conj(Omega) * tensor(psi0r.dag(),psi01) ) - Delta * tensor(psi0r.dag(),psi0r)\n",
    "    \n",
    "    H10 = 1/2 * ( Omega * tensor(psi10.dag(),psir0) + \n",
    "             np.conj(Omega) * tensor(psir0.dag(),psi10) ) - Delta * tensor(psir0.dag(),psir0)\n",
    "\n",
    "    H2  = np.sqrt(2)/2 * ( Omega * ( tensor(psi11.dag(),psir1) + tensor(psi11.dag(),psi1r) + \n",
    "                                    tensor(psi1r.dag(),psirr) + tensor(psir1.dag(),psirr) ) \n",
    "            + np.conj(Omega) * ( tensor(psir1.dag(),psi11) + tensor(psi1r.dag(),psi11) + \n",
    "                                tensor(psirr.dag(),psi1r) + tensor(psirr.dag(),psir1) ) \n",
    "            ) - Delta * ( tensor(psir1.dag(),psir1) + tensor(psir1.dag(),psi1r) \n",
    "                           + tensor(psi1r.dag(),psir1) + tensor(psi1r.dag(),psi1r)) + (V-2*Delta) * (tensor(psirr.dag(),psirr))\n",
    "\n",
    "    H = H0 + H01 + H10 + H2\n",
    "    \n",
    "    return H"
   ]
  },
  {
   "cell_type": "code",
   "execution_count": null,
   "id": "twenty-winning",
   "metadata": {
    "ExecuteTime": {
     "end_time": "2021-02-28T16:14:07.626241Z",
     "start_time": "2021-02-28T16:14:07.620052Z"
    },
    "hidden": true
   },
   "outputs": [],
   "source": [
    "# Implementation of two-qubit CZ gate for imperfect blockade regime\n",
    "def CZ_gate_imperfect(psi,Omega,Delta,tau,V):\n",
    "        \n",
    "    # Times discretization\n",
    "    times = np.linspace(0.0, tau, 200)\n",
    "    \n",
    "    # Apply first pulse\n",
    "    H = hamiltonian_imperfect(Omega,Delta,V)\n",
    "    result = mesolve(H, psi, times,[], [])\n",
    "    psi = result.states[-1]\n",
    "    \n",
    "    # Apply second pulse rotated by Omega -> Omega exp(i xi)\n",
    "    H = hamiltonian_imperfect(Omega * exp_xi(Delta,Omega,tau), Delta, V)\n",
    "    result = mesolve(H, psi, times,[], [])\n",
    "    psi = result.states[-1] \n",
    "        \n",
    "    return psi\n",
    "\n",
    "\n",
    "# Evolution of the system after the first pulse for imperfect blockade regime\n",
    "def evol_CZ_gate_imperfect(psi,Omega,Delta,tau,V,rho_ref):\n",
    "        \n",
    "    # Times discretization\n",
    "    times = np.linspace(0.0, 3*tau, 200)\n",
    "    \n",
    "    # Apply first pulse\n",
    "    H = hamiltonian_imperfect(Omega,Delta,V)\n",
    "    result = mesolve(H, psi, times,[], [rho_ref])\n",
    "        \n",
    "    return result"
   ]
  },
  {
   "cell_type": "markdown",
   "id": "alike-grass",
   "metadata": {
    "heading_collapsed": true
   },
   "source": [
    "### Population for system initally in $|11>$"
   ]
  },
  {
   "cell_type": "code",
   "execution_count": null,
   "id": "careful-string",
   "metadata": {
    "ExecuteTime": {
     "end_time": "2021-02-28T16:14:14.277046Z",
     "start_time": "2021-02-28T16:14:12.928402Z"
    },
    "hidden": true
   },
   "outputs": [],
   "source": [
    "# Parameters\n",
    "Omega   = 1\n",
    "frac_DO = 0.377371\n",
    "prod_Ot = 4.29268\n",
    "Delta = frac_DO * Omega \n",
    "tau = prod_Ot / Omega\n",
    "\n",
    "state_first = 1\n",
    "state_last = 1\n",
    "psi_init = CZ_init(state_first,state_last) \n",
    "\n",
    "Delta_list = [0,frac_DO,4*frac_DO]\n",
    "V_list = [0,0.1,1,100]\n",
    "\n",
    "pop_b2_list = []\n",
    "pop_a2_list = []\n",
    "pop_c2_list = []\n",
    "\n",
    "for vv in V_list:\n",
    "    \n",
    "    rho_ref_c2 = ket2dm( CZ_init(2,2) )\n",
    "    pop_c2 = evol_CZ_gate_imperfect(psi_init,Omega,Delta,tau,vv,rho_ref_c2 ) \n",
    "    pop_c2_list.append(pop_c2)\n",
    "    \n",
    "    rho_ref_b2 = ket2dm( np.sqrt(2)/2 * ( CZ_init(2,1) + CZ_init(1,2) ) )\n",
    "    pop_b2 = evol_CZ_gate_imperfect(psi_init,Omega,Delta,tau,vv,rho_ref_b2)   \n",
    "    pop_b2_list.append(pop_b2)\n",
    "    \n",
    "    rho_ref_a2 = ket2dm( CZ_init(1,1) )\n",
    "    pop_a2 = evol_CZ_gate_imperfect(psi_init,Omega,Delta,tau,vv,rho_ref_a2)   \n",
    "    pop_a2_list.append(pop_a2)   \n",
    "    \n",
    "fig, ax = plt.subplots(3,1, figsize=(8,6))\n",
    "\n",
    "ax[0].plot(pop_c2_list[0].times, pop_c2_list[0].expect[0], color=col[0], ls='-', label=r'$V$=0')\n",
    "ax[0].plot(pop_c2_list[1].times, pop_c2_list[1].expect[0], color=col[2], ls='--',label=r'$V$=0.1')\n",
    "ax[0].plot(pop_c2_list[2].times, pop_c2_list[2].expect[0], color=col[3], ls='-.', label=r'$V$=1')\n",
    "ax[0].plot(pop_c2_list[3].times, pop_c2_list[3].expect[0], color=col[1], ls='-.', label=r'$V$=100')\n",
    "ax[0].set_ylabel(r'$\\bf{P_{c_2}}$', fontsize=16)\n",
    "ax[0].grid(color='0.9')\n",
    "ax[0].set_ylim(-0.1,1.1)\n",
    "\n",
    "ax[1].plot(pop_b2_list[0].times, pop_b2_list[0].expect[0], color=col[0], ls='-',  label=r'$V$=0')\n",
    "ax[1].plot(pop_b2_list[1].times, pop_b2_list[1].expect[0], color=col[2], ls='--', label=r'$V$=0.1')\n",
    "ax[1].plot(pop_b2_list[2].times, pop_b2_list[2].expect[0], color=col[3], ls='-.', label=r'$V$=1')\n",
    "ax[1].plot(pop_b2_list[3].times, pop_b2_list[3].expect[0], color=col[1], ls='-.', label=r'$V$=100')\n",
    "ax[1].set_ylabel(r'$\\bf{P_{b_2}}$', fontsize=16)\n",
    "ax[1].grid(color='0.9')\n",
    "ax[1].set_ylim(-0.1,1.1)\n",
    "\n",
    "ax[2].plot(pop_a2_list[0].times, pop_a2_list[0].expect[0], color=col[0], ls='-',  label=r'$V$=0')\n",
    "ax[2].plot(pop_a2_list[1].times, pop_a2_list[1].expect[0], color=col[2], ls='--', label=r'$V$=0.1')\n",
    "ax[2].plot(pop_a2_list[2].times, pop_a2_list[2].expect[0], color=col[3], ls='-.', label=r'$V$=1')\n",
    "ax[2].plot(pop_a2_list[3].times, pop_a2_list[3].expect[0], color=col[1], ls='-.', label=r'$V$=100')\n",
    "ax[2].set_ylabel(r'$\\bf{P_{a_2}}$', fontsize=16)\n",
    "ax[2].grid(color='0.9')\n",
    "ax[2].set_xlabel(r'\\bf{Time} $[\\Omega^{-1}]$', fontsize=16);\n",
    "ax[2].set_ylim(-0.1,1.1)\n",
    "\n",
    "# Put a legend above current axis\n",
    "plt.legend(loc='upper center', bbox_to_anchor=(0.5, 3.85),fancybox=True, shadow=True, ncol=4)\n",
    "plt.savefig(\"plots/pop_H2-imp.pdf\", bbox_inches='tight')\n",
    "plt.show()"
   ]
  },
  {
   "cell_type": "markdown",
   "id": "precise-departure",
   "metadata": {
    "heading_collapsed": true
   },
   "source": [
    "### Population for system initally in $|01>$"
   ]
  },
  {
   "cell_type": "code",
   "execution_count": null,
   "id": "understanding-campus",
   "metadata": {
    "ExecuteTime": {
     "end_time": "2021-02-28T16:14:20.969551Z",
     "start_time": "2021-02-28T16:14:19.826327Z"
    },
    "hidden": true,
    "scrolled": false
   },
   "outputs": [],
   "source": [
    "# Parameters\n",
    "Omega   = 1\n",
    "frac_DO = 0.377371\n",
    "prod_Ot = 4.29268\n",
    "Delta = frac_DO * Omega \n",
    "tau = prod_Ot / Omega\n",
    "\n",
    "state_first = 0\n",
    "state_last = 1\n",
    "psi_init = CZ_init(state_first,state_last) \n",
    "\n",
    "Delta_list = [0,frac_DO,4*frac_DO]\n",
    "pop_b2_list = []\n",
    "pop_a2_list = []\n",
    "pop_b2_a2_list = []\n",
    "\n",
    "V_list = [0,0.1,1,100]\n",
    " \n",
    "for vv in V_list:\n",
    "    rho_ref_b2 = ket2dm( CZ_init(0,2) )\n",
    "    pop_b2 = evol_CZ_gate_imperfect(psi_init,Omega,Delta,tau,vv,rho_ref_b2)   \n",
    "    pop_b2_list.append(pop_b2)\n",
    "    \n",
    "    rho_ref_a2 = ket2dm( CZ_init(0,1) )\n",
    "    pop_a2 = evol_CZ_gate_imperfect(psi_init,Omega,Delta,tau,vv,rho_ref_a2)   \n",
    "    pop_a2_list.append(pop_a2)    \n",
    "\n",
    "    rho_ref_b2_a2 = rho_ref_b2 - rho_ref_a2\n",
    "    pop_b2_a2 = evol_CZ_gate_imperfect(psi_init,Omega,Delta,tau,vv,rho_ref_b2_a2 ) \n",
    "    pop_b2_a2_list.append(pop_b2_a2)\n",
    "    \n",
    "    \n",
    "fig, ax = plt.subplots(3,1, figsize=(8,6))\n",
    "\n",
    "ax[0].plot(pop_b2_list[0].times, pop_b2_list[0].expect[0], color=col[0], ls='-', label=r'$V$=0')\n",
    "ax[0].plot(pop_b2_list[1].times, pop_b2_list[1].expect[0], color=col[2], ls='--',label=r'$V$=0.1')\n",
    "ax[0].plot(pop_b2_list[2].times, pop_b2_list[2].expect[0], color=col[3], ls='-.',label=r'$V$=1')\n",
    "ax[0].plot(pop_b2_list[3].times, pop_b2_list[3].expect[0], color=col[1], ls='-.',label=r'$V$=100')\n",
    "ax[0].set_ylabel(r'$\\bf{P_{b_1}}$', fontsize=16)\n",
    "ax[0].grid(color='0.9')\n",
    "ax[0].set_ylim(-0.1,1.1)\n",
    "\n",
    "ax[1].plot(pop_a2_list[0].times, pop_a2_list[0].expect[0], color=col[0], ls='-',  label=r'$V$=0')\n",
    "ax[1].plot(pop_a2_list[1].times, pop_a2_list[1].expect[0], color=col[2], ls='--', label=r'$V$=0.1')\n",
    "ax[1].plot(pop_a2_list[2].times, pop_a2_list[2].expect[0], color=col[3], ls='-.', label=r'$V$=1')\n",
    "ax[1].plot(pop_a2_list[3].times, pop_a2_list[3].expect[0], color=col[1], ls='-.', label=r'$V$=100')\n",
    "ax[1].set_ylabel(r'$\\bf{P_{a_1}}$', fontsize=16)\n",
    "ax[1].grid(color='0.9')\n",
    "ax[1].set_ylim(-0.1,1.1)\n",
    "\n",
    "ax[2].plot(pop_b2_a2_list[0].times, pop_b2_a2_list[0].expect[0], color=col[0], ls='-',  label=r'$V$=0')\n",
    "ax[2].plot(pop_b2_a2_list[1].times, pop_b2_a2_list[1].expect[0], color=col[2], ls='--', label=r'$V$=0.1')\n",
    "ax[2].plot(pop_b2_a2_list[2].times, pop_b2_a2_list[2].expect[0], color=col[3], ls='-.', label=r'$V$=1')\n",
    "ax[2].plot(pop_b2_a2_list[3].times, pop_b2_a2_list[3].expect[0], color=col[1], ls='-.', label=r'$V$=100')\n",
    "ax[2].set_ylabel(r'$\\bf{P_{b_1}-P_{a_1}}$', fontsize=16)\n",
    "ax[2].grid(color='0.9')\n",
    "ax[2].set_xlabel(r'\\bf{Time} $[\\Omega^{-1}]$', fontsize=16);\n",
    "ax[2].set_ylim(-1.1,1.1)\n",
    "\n",
    "# Put a legend above current axis\n",
    "plt.legend(loc='upper center', bbox_to_anchor=(0.5, 3.85),fancybox=True, shadow=True, ncol=4)\n",
    "plt.savefig(\"plots/pop_H1-imp.pdf\", bbox_inches='tight')\n",
    "plt.show()"
   ]
  },
  {
   "cell_type": "markdown",
   "id": "statutory-begin",
   "metadata": {},
   "source": [
    "### Phase plot as a function of $\\Delta/\\Omega$"
   ]
  },
  {
   "cell_type": "code",
   "execution_count": null,
   "id": "funky-slovak",
   "metadata": {
    "ExecuteTime": {
     "end_time": "2021-03-01T10:40:55.153126Z",
     "start_time": "2021-03-01T10:40:44.154936Z"
    }
   },
   "outputs": [],
   "source": [
    "# Parameters\n",
    "frac_DO_list = np.linspace(0,1.7,50)\n",
    "Omega   = 1\n",
    "prod_Ot = 4.29268\n",
    "tau = prod_Ot / Omega\n",
    "V = 1\n",
    "\n",
    "# State |01>\n",
    "\n",
    "state_first = 0\n",
    "state_last = 1\n",
    "psi_init = CZ_init(state_first,state_last) \n",
    "\n",
    "phase_01_list = []\n",
    "phase_diff_list = []\n",
    "\n",
    "for ff in frac_DO_list:\n",
    "    \n",
    "    Delta = ff * Omega\n",
    "    psi_fin = CZ_gate_imperfect(psi_init,Omega,Delta,tau,V) \n",
    "    number = np.conj(psi_fin[1][0][0])\n",
    "    phase_01_list.append( phase_func( number ) )\n",
    "    phase_diff_list.append( 2*phase_func( number )-np.pi)\n",
    "\n",
    "phase_01_in_radians = [val*radians for val in phase_01_list] \n",
    "phase_diff_in_radians = [val*radians for val in phase_diff_list]     \n",
    "\n",
    "# State |11>\n",
    "V = 1\n",
    "\n",
    "state_first = 1\n",
    "state_last = 1\n",
    "psi_init = CZ_init(state_first,state_last) \n",
    "\n",
    "phase_11_list = []\n",
    "\n",
    "for ff in frac_DO_list:\n",
    "    \n",
    "    Delta = ff * Omega #* (Omega**2/(2*V))\n",
    "    psi_fin = CZ_gate_imperfect(psi_init,Omega,Delta,tau,V) \n",
    "    number = np.conj(psi_fin[4][0][0])\n",
    "    phase_11_list.append( phase_func( number ) )\n",
    "\n",
    "print(phase_11_list)\n",
    "phase_11_in_radians = [val*radians for val in phase_11_list]"
   ]
  },
  {
   "cell_type": "code",
   "execution_count": null,
   "id": "several-delhi",
   "metadata": {
    "ExecuteTime": {
     "end_time": "2021-03-01T10:40:55.703184Z",
     "start_time": "2021-03-01T10:40:55.380886Z"
    }
   },
   "outputs": [],
   "source": [
    "# Plot\n",
    "\n",
    "fig, ax = plt.subplots(1,1, figsize=(8,6))\n",
    "\n",
    "ax.plot(frac_DO_list, phase_01_in_radians, color=col[0], ls='-', lw='2', yunits=radians, label=r'$\\phi_{01}$' )  \n",
    "\n",
    "ax.set_xlabel(r'$\\Delta/\\Omega$', fontsize=16);\n",
    "ax.set_ylabel(r'\\bf{Phase (rad)}', fontsize=16)\n",
    "ax.grid(color='0.9')\n",
    "ax.set_xlim(0,1.7)\n",
    "ax.set_ylim(-0.1,3*np.pi+0.5)\n",
    "plt.legend(fontsize=16)\n",
    "#plt.savefig(\"plots/phase_01_CZ_imp.pdf\", bbox_inches='tight')\n",
    "plt.show()"
   ]
  },
  {
   "cell_type": "code",
   "execution_count": null,
   "id": "following-sheffield",
   "metadata": {
    "ExecuteTime": {
     "end_time": "2021-03-02T16:37:20.016909Z",
     "start_time": "2021-03-02T16:37:19.987900Z"
    }
   },
   "outputs": [],
   "source": [
    "plus_two_pi = [3.0089818317375663, 2.7124605993503725, 2.4415371673120956, 2.200768295018551, 1.9873402442021284, \n",
    " 1.788197906010982, 1.5843842080401243, 1.3608571723389957, 1.1120434274658546, 0.8399034982312396, \n",
    " 0.5496268825770231, 0.24677973876947198]\n",
    "\n",
    "zero_pi = [6.219358097599738, 5.904816662556529, 5.58926088764409, 5.274859631222126, 4.963114335430108, 4.6549640435010895, \n",
    " 4.350830529718364, 4.050593131339981, 3.7535000237866476, 3.4579223988902106, 3.160779095497463, \n",
    " 2.8561177797998307, 2.5313003233335354, 2.155034583505895, 1.633321676636601, 0.7157895236153065]\n",
    " \n",
    "minus_two_pi = [5.948575317836044, 5.353950036667297, 4.977904849831452, 4.6850925921368525, 4.432546312038887, \n",
    " 4.204139050853585, 3.992813728577068, 3.7952087619797137, 3.609720529142963, 3.435697676530068, \n",
    " 3.2730646992335415, 3.1221247221368538, 2.9834405770511587, 2.8577470276007877, 2.745867339275395, \n",
    " 2.6486149235636582, 2.56666359710642, 2.5003744265447336, 2.449580273340653, 2.4133660603748157, \n",
    " 2.3899148405851065, 2.376500762046443]\n",
    "\n",
    "\n",
    "plus_two_pi = [ i + 2*np.pi for i in plus_two_pi ]\n",
    "minus_two_pi = [ i - 2*np.pi for i in minus_two_pi ]\n",
    "\n",
    "phase_11_list = plus_two_pi + zero_pi + minus_two_pi\n",
    "phase_11_in_radians = [val*radians for val in phase_11_list]"
   ]
  },
  {
   "cell_type": "code",
   "execution_count": null,
   "id": "exterior-producer",
   "metadata": {
    "ExecuteTime": {
     "end_time": "2021-03-02T16:38:01.820517Z",
     "start_time": "2021-03-02T16:38:01.420280Z"
    }
   },
   "outputs": [],
   "source": [
    "# Plot\n",
    "\n",
    "fig, ax = plt.subplots(1,1, figsize=(8,6))\n",
    "\n",
    "ax.plot(frac_DO_list, phase_01_in_radians, color=col[0], ls='-', lw='2', yunits=radians, label=r'$\\phi_{01}$' ) \n",
    "ax.plot(frac_DO_list, phase_11_in_radians, color=col[3], lw='2', markersize=10, yunits=radians, label=r'$\\phi_{11}$' )  \n",
    "#ax.plot(frac_DO_list, phase_diff_in_radians, color=col[0], ls='--', lw='2', yunits=radians, label=r'$2\\phi_{01}-\\pi$') \n",
    "\n",
    "#ax.plot(0.37,3*np.pi/2,'.', marker=\".\", markersize=20, color=col[2])\n",
    "#plt.text(0.42,3*np.pi/2,r'\\bf{CZ}',fontsize=16,color=col[2])\n",
    "\n",
    "ax.set_xlabel(r'$\\Delta/\\Omega$', fontsize=16);\n",
    "ax.set_ylabel(r'\\bf{Phase [rad]}', fontsize=16)\n",
    "ax.grid(color='0.9')\n",
    "ax.set_xlim(0,1.7)\n",
    "#ax.set_ylim(-0.1,3*np.pi+0.5)\n",
    "plt.legend(fontsize=16)\n",
    "plt.savefig(\"plots/phase_11_01_CZ_imp.pdf\", bbox_inches='tight')\n",
    "plt.show()"
   ]
  },
  {
   "cell_type": "code",
   "execution_count": null,
   "id": "legendary-count",
   "metadata": {},
   "outputs": [],
   "source": []
  }
 ],
 "metadata": {
  "kernelspec": {
   "display_name": "Python 3",
   "language": "python",
   "name": "python3"
  },
  "language_info": {
   "codemirror_mode": {
    "name": "ipython",
    "version": 3
   },
   "file_extension": ".py",
   "mimetype": "text/x-python",
   "name": "python",
   "nbconvert_exporter": "python",
   "pygments_lexer": "ipython3",
   "version": "3.7.9"
  },
  "varInspector": {
   "cols": {
    "lenName": 16,
    "lenType": 16,
    "lenVar": 40
   },
   "kernels_config": {
    "python": {
     "delete_cmd_postfix": "",
     "delete_cmd_prefix": "del ",
     "library": "var_list.py",
     "varRefreshCmd": "print(var_dic_list())"
    },
    "r": {
     "delete_cmd_postfix": ") ",
     "delete_cmd_prefix": "rm(",
     "library": "var_list.r",
     "varRefreshCmd": "cat(var_dic_list()) "
    }
   },
   "types_to_exclude": [
    "module",
    "function",
    "builtin_function_or_method",
    "instance",
    "_Feature"
   ],
   "window_display": false
  }
 },
 "nbformat": 4,
 "nbformat_minor": 5
}
